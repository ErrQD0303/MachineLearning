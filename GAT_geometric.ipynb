{
  "nbformat": 4,
  "nbformat_minor": 0,
  "metadata": {
    "colab": {
      "provenance": [],
      "gpuType": "T4",
      "authorship_tag": "ABX9TyMIJZzsyW3X4VnRqVscQ160",
      "include_colab_link": true
    },
    "kernelspec": {
      "name": "python3",
      "display_name": "Python 3"
    },
    "language_info": {
      "name": "python"
    },
    "accelerator": "GPU"
  },
  "cells": [
    {
      "cell_type": "markdown",
      "metadata": {
        "id": "view-in-github",
        "colab_type": "text"
      },
      "source": [
        "<a href=\"https://colab.research.google.com/github/ErrQD0303/MachineLearning/blob/main/GAT_geometric.ipynb\" target=\"_parent\"><img src=\"https://colab.research.google.com/assets/colab-badge.svg\" alt=\"Open In Colab\"/></a>"
      ]
    },
    {
      "cell_type": "code",
      "source": [
        "pip install torch-geometric==2.5.3"
      ],
      "metadata": {
        "colab": {
          "base_uri": "https://localhost:8080/"
        },
        "id": "aDZZZTfvrBEZ",
        "outputId": "3772e366-6c17-45f1-cc82-225c7ea8bb61"
      },
      "execution_count": 1,
      "outputs": [
        {
          "output_type": "stream",
          "name": "stdout",
          "text": [
            "Collecting torch-geometric==2.5.3\n",
            "  Downloading torch_geometric-2.5.3-py3-none-any.whl.metadata (64 kB)\n",
            "\u001b[?25l     \u001b[90m━━━━━━━━━━━━━━━━━━━━━━━━━━━━━━━━━━━━━━━━\u001b[0m \u001b[32m0.0/64.2 kB\u001b[0m \u001b[31m?\u001b[0m eta \u001b[36m-:--:--\u001b[0m\r\u001b[2K     \u001b[90m━━━━━━━━━━━━━━━━━━━━━━━━━━━━━━━━━━━━━━━━\u001b[0m \u001b[32m64.2/64.2 kB\u001b[0m \u001b[31m2.8 MB/s\u001b[0m eta \u001b[36m0:00:00\u001b[0m\n",
            "\u001b[?25hRequirement already satisfied: tqdm in /usr/local/lib/python3.10/dist-packages (from torch-geometric==2.5.3) (4.66.5)\n",
            "Requirement already satisfied: numpy in /usr/local/lib/python3.10/dist-packages (from torch-geometric==2.5.3) (1.26.4)\n",
            "Requirement already satisfied: scipy in /usr/local/lib/python3.10/dist-packages (from torch-geometric==2.5.3) (1.13.1)\n",
            "Requirement already satisfied: fsspec in /usr/local/lib/python3.10/dist-packages (from torch-geometric==2.5.3) (2024.6.1)\n",
            "Requirement already satisfied: jinja2 in /usr/local/lib/python3.10/dist-packages (from torch-geometric==2.5.3) (3.1.4)\n",
            "Requirement already satisfied: aiohttp in /usr/local/lib/python3.10/dist-packages (from torch-geometric==2.5.3) (3.10.2)\n",
            "Requirement already satisfied: requests in /usr/local/lib/python3.10/dist-packages (from torch-geometric==2.5.3) (2.32.3)\n",
            "Requirement already satisfied: pyparsing in /usr/local/lib/python3.10/dist-packages (from torch-geometric==2.5.3) (3.1.2)\n",
            "Requirement already satisfied: scikit-learn in /usr/local/lib/python3.10/dist-packages (from torch-geometric==2.5.3) (1.3.2)\n",
            "Requirement already satisfied: psutil>=5.8.0 in /usr/local/lib/python3.10/dist-packages (from torch-geometric==2.5.3) (5.9.5)\n",
            "Requirement already satisfied: aiohappyeyeballs>=2.3.0 in /usr/local/lib/python3.10/dist-packages (from aiohttp->torch-geometric==2.5.3) (2.3.5)\n",
            "Requirement already satisfied: aiosignal>=1.1.2 in /usr/local/lib/python3.10/dist-packages (from aiohttp->torch-geometric==2.5.3) (1.3.1)\n",
            "Requirement already satisfied: attrs>=17.3.0 in /usr/local/lib/python3.10/dist-packages (from aiohttp->torch-geometric==2.5.3) (24.2.0)\n",
            "Requirement already satisfied: frozenlist>=1.1.1 in /usr/local/lib/python3.10/dist-packages (from aiohttp->torch-geometric==2.5.3) (1.4.1)\n",
            "Requirement already satisfied: multidict<7.0,>=4.5 in /usr/local/lib/python3.10/dist-packages (from aiohttp->torch-geometric==2.5.3) (6.0.5)\n",
            "Requirement already satisfied: yarl<2.0,>=1.0 in /usr/local/lib/python3.10/dist-packages (from aiohttp->torch-geometric==2.5.3) (1.9.4)\n",
            "Requirement already satisfied: async-timeout<5.0,>=4.0 in /usr/local/lib/python3.10/dist-packages (from aiohttp->torch-geometric==2.5.3) (4.0.3)\n",
            "Requirement already satisfied: MarkupSafe>=2.0 in /usr/local/lib/python3.10/dist-packages (from jinja2->torch-geometric==2.5.3) (2.1.5)\n",
            "Requirement already satisfied: charset-normalizer<4,>=2 in /usr/local/lib/python3.10/dist-packages (from requests->torch-geometric==2.5.3) (3.3.2)\n",
            "Requirement already satisfied: idna<4,>=2.5 in /usr/local/lib/python3.10/dist-packages (from requests->torch-geometric==2.5.3) (3.7)\n",
            "Requirement already satisfied: urllib3<3,>=1.21.1 in /usr/local/lib/python3.10/dist-packages (from requests->torch-geometric==2.5.3) (2.0.7)\n",
            "Requirement already satisfied: certifi>=2017.4.17 in /usr/local/lib/python3.10/dist-packages (from requests->torch-geometric==2.5.3) (2024.7.4)\n",
            "Requirement already satisfied: joblib>=1.1.1 in /usr/local/lib/python3.10/dist-packages (from scikit-learn->torch-geometric==2.5.3) (1.4.2)\n",
            "Requirement already satisfied: threadpoolctl>=2.0.0 in /usr/local/lib/python3.10/dist-packages (from scikit-learn->torch-geometric==2.5.3) (3.5.0)\n",
            "Downloading torch_geometric-2.5.3-py3-none-any.whl (1.1 MB)\n",
            "\u001b[2K   \u001b[90m━━━━━━━━━━━━━━━━━━━━━━━━━━━━━━━━━━━━━━━━\u001b[0m \u001b[32m1.1/1.1 MB\u001b[0m \u001b[31m30.6 MB/s\u001b[0m eta \u001b[36m0:00:00\u001b[0m\n",
            "\u001b[?25hInstalling collected packages: torch-geometric\n",
            "Successfully installed torch-geometric-2.5.3\n"
          ]
        }
      ]
    },
    {
      "cell_type": "code",
      "execution_count": 3,
      "metadata": {
        "id": "fFcjSa5soUTo"
      },
      "outputs": [],
      "source": [
        "from torch_geometric.datasets import Planetoid\n",
        "dataset = Planetoid(root=\".\", name=\"Cora\")\n",
        "data = dataset[0]"
      ]
    },
    {
      "cell_type": "code",
      "source": [
        "# 1. Import thư viện\n",
        "import torch\n",
        "import torch.nn.functional as F\n",
        "from torch_geometric.nn import GATv2Conv\n",
        "from torch.nn import Linear, Dropout"
      ],
      "metadata": {
        "id": "UINQ8QfnpZdR"
      },
      "execution_count": 5,
      "outputs": []
    },
    {
      "cell_type": "code",
      "source": [
        "# 2. Định nghĩa hàm accuracy()\n",
        "def accuracy(y_pred, y_true):\n",
        "  return torch.sum(y_pred == y_true) / len(y_true)"
      ],
      "metadata": {
        "id": "77l86YdergDZ"
      },
      "execution_count": 14,
      "outputs": []
    },
    {
      "cell_type": "code",
      "source": [
        "# 3. Định nghĩa class GAT đại diện cho mô hình GAT\n",
        "class GAT(torch.nn.Module):\n",
        "  def __init__(self, dim_in, dim_h, dim_out, heads=8):\n",
        "    super().__init__()\n",
        "    self.gat1 = GATv2Conv(dim_in, dim_h, heads=heads)\n",
        "    self.gat2 = GATv2Conv(dim_h*heads, dim_out, heads=1)\n",
        "\n",
        "  # Định nghĩa hàm tiến có sử dụng eLU và chuẩn hóa softmax\n",
        "  def forward(self, x, edge_index):\n",
        "    h = F.dropout(x, p=0.6, training=self.training)\n",
        "    h = self.gat1(h, edge_index)\n",
        "    h = F.elu(h)\n",
        "    h = F.dropout(h, p=0.6, training=self.training)\n",
        "    h = self.gat2(h, edge_index)\n",
        "    return F.log_softmax(h, dim=1)\n",
        "\n",
        "  # Định nghĩa hàm fit để huấn luyện mô hình\n",
        "  def fit(self, data, epochs):\n",
        "    criterion = torch.nn.CrossEntropyLoss()\n",
        "    optimizer = torch.optim.Adam(self.parameters(), lr=0.01, weight_decay=0.01)\n",
        "    self.train()\n",
        "    for epoch in range(epochs+1):\n",
        "      optimizer.zero_grad()\n",
        "      out = self(data.x, data.edge_index)\n",
        "      loss = criterion(out[data.train_mask], data.y[data.train_mask])\n",
        "      acc = accuracy(out[data.train_mask].argmax(dim=1), data.y[data.train_mask])\n",
        "      loss.backward()\n",
        "      optimizer.step()\n",
        "\n",
        "      if(epoch % 20 == 0):\n",
        "        val_loss = criterion(out[data.val_mask], data.y[data.val_mask])\n",
        "        val_acc = accuracy(out[data.val_mask].argmax(dim=1), data.y[data.val_mask])\n",
        "        print(f'Epoch {epoch:>3} | Train Loss: {loss:.3f} | Train Acc: {acc*100:>5.2f}% | Val Loss: {val_loss:.2f} | Val Acc: {val_acc*100:.2f}%')\n",
        "\n",
        "  # Định nghĩa hàm đánh giá test\n",
        "  @torch.no_grad()\n",
        "  def test(self, data):\n",
        "    self.eval()\n",
        "    out = self(data.x, data.edge_index)\n",
        "    acc = accuracy(out.argmax(dim=1)[data.test_mask], data.y[data.test_mask])\n",
        "    return acc"
      ],
      "metadata": {
        "id": "5VidF40IrkgK"
      },
      "execution_count": 15,
      "outputs": []
    },
    {
      "cell_type": "code",
      "source": [
        "# 3. Tiến hành train\n",
        "gat = GAT(dataset.num_features, 32, dataset.num_classes)\n",
        "gat.fit(data, epochs=100)"
      ],
      "metadata": {
        "colab": {
          "base_uri": "https://localhost:8080/"
        },
        "id": "hzY8rxa4s9zD",
        "outputId": "5516919e-a12d-4090-fd3d-3e9eb7c630ec"
      },
      "execution_count": 16,
      "outputs": [
        {
          "output_type": "stream",
          "name": "stdout",
          "text": [
            "Epoch   0 | Train Loss: 1.962 | Train Acc: 14.29% | Val Loss: 1.96 | Val Acc: 14.00%\n",
            "Epoch  20 | Train Loss: 0.210 | Train Acc: 96.43% | Val Loss: 0.92 | Val Acc: 72.40%\n",
            "Epoch  40 | Train Loss: 0.217 | Train Acc: 97.14% | Val Loss: 0.91 | Val Acc: 73.40%\n",
            "Epoch  60 | Train Loss: 0.177 | Train Acc: 99.29% | Val Loss: 0.90 | Val Acc: 72.00%\n",
            "Epoch  80 | Train Loss: 0.193 | Train Acc: 97.86% | Val Loss: 0.99 | Val Acc: 71.40%\n",
            "Epoch 100 | Train Loss: 0.206 | Train Acc: 97.14% | Val Loss: 0.91 | Val Acc: 72.00%\n"
          ]
        }
      ]
    },
    {
      "cell_type": "code",
      "source": [
        "# Đánh giá dữ liệu sử dụng mô hình đã được train\n",
        "acc = gat.test(data)\n",
        "print(f'GAT test accuracy: {acc*100:.2f}%')"
      ],
      "metadata": {
        "colab": {
          "base_uri": "https://localhost:8080/"
        },
        "id": "YqBN5frOtr1a",
        "outputId": "aeb687c5-f30e-41e4-d710-191abab7007a"
      },
      "execution_count": 17,
      "outputs": [
        {
          "output_type": "stream",
          "name": "stdout",
          "text": [
            "GAT test accuracy: 81.50%\n"
          ]
        }
      ]
    }
  ]
}